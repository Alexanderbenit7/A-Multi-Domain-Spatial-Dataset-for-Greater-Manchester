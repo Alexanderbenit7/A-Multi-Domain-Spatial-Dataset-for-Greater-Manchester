{
 "cells": [
  {
   "metadata": {},
   "cell_type": "markdown",
   "source": [
    "pip install pandas==1.5.3\n",
    "pip install numpy==1.24.3\n",
    "pip install openpyxl==3.1.2\n",
    "pip install matplotlib==3.7.3\n",
    "pip install geopandas==0.13.2"
   ],
   "id": "5960392477d1257d"
  },
  {
   "metadata": {
    "collapsed": true,
    "ExecuteTime": {
     "end_time": "2025-04-07T16:51:02.259721Z",
     "start_time": "2025-04-07T16:51:02.126297Z"
    }
   },
   "cell_type": "code",
   "source": [
    "import pandas as pd\n",
    "import geopandas as gpd"
   ],
   "id": "initial_id",
   "outputs": [],
   "execution_count": 2
  },
  {
   "metadata": {
    "ExecuteTime": {
     "end_time": "2025-04-07T17:02:48.230984Z",
     "start_time": "2025-04-07T17:02:41.846995Z"
    }
   },
   "cell_type": "code",
   "source": [
    "# Load the lookup table with the correct encoding\n",
    "lookup_df = pd.read_csv(\"data/lookup_table.csv\", encoding='latin1', low_memory=False)\n",
    "lookup_df.head(5)"
   ],
   "id": "fe61b3a08c1faa90",
   "outputs": [
    {
     "data": {
      "text/plain": [
       "      pcd7      pcd8     pcds  dointr    doterm  usertype     oa21cd  \\\n",
       "0  AB1 0AA  AB1  0AA  AB1 0AA  198001  199606.0         0  S00090303   \n",
       "1  AB1 0AB  AB1  0AB  AB1 0AB  198001  199606.0         0  S00090303   \n",
       "2  AB1 0AD  AB1  0AD  AB1 0AD  198001  199606.0         0  S00090399   \n",
       "3  AB1 0AE  AB1  0AE  AB1 0AE  199402  199606.0         0  S00091322   \n",
       "4  AB1 0AF  AB1  0AF  AB1 0AF  199012  199207.0         1  S00090299   \n",
       "\n",
       "    lsoa21cd   msoa21cd      ladcd lsoa21nm msoa21nm          ladnm ladnmw  \n",
       "0  S01006514  S02001237  S12000033      NaN      NaN  Aberdeen City    NaN  \n",
       "1  S01006514  S02001237  S12000033      NaN      NaN  Aberdeen City    NaN  \n",
       "2  S01006514  S02001237  S12000033      NaN      NaN  Aberdeen City    NaN  \n",
       "3  S01006853  S02001296  S12000034      NaN      NaN  Aberdeenshire    NaN  \n",
       "4  S01006511  S02001236  S12000033      NaN      NaN  Aberdeen City    NaN  "
      ],
      "text/html": [
       "<div>\n",
       "<style scoped>\n",
       "    .dataframe tbody tr th:only-of-type {\n",
       "        vertical-align: middle;\n",
       "    }\n",
       "\n",
       "    .dataframe tbody tr th {\n",
       "        vertical-align: top;\n",
       "    }\n",
       "\n",
       "    .dataframe thead th {\n",
       "        text-align: right;\n",
       "    }\n",
       "</style>\n",
       "<table border=\"1\" class=\"dataframe\">\n",
       "  <thead>\n",
       "    <tr style=\"text-align: right;\">\n",
       "      <th></th>\n",
       "      <th>pcd7</th>\n",
       "      <th>pcd8</th>\n",
       "      <th>pcds</th>\n",
       "      <th>dointr</th>\n",
       "      <th>doterm</th>\n",
       "      <th>usertype</th>\n",
       "      <th>oa21cd</th>\n",
       "      <th>lsoa21cd</th>\n",
       "      <th>msoa21cd</th>\n",
       "      <th>ladcd</th>\n",
       "      <th>lsoa21nm</th>\n",
       "      <th>msoa21nm</th>\n",
       "      <th>ladnm</th>\n",
       "      <th>ladnmw</th>\n",
       "    </tr>\n",
       "  </thead>\n",
       "  <tbody>\n",
       "    <tr>\n",
       "      <th>0</th>\n",
       "      <td>AB1 0AA</td>\n",
       "      <td>AB1  0AA</td>\n",
       "      <td>AB1 0AA</td>\n",
       "      <td>198001</td>\n",
       "      <td>199606.0</td>\n",
       "      <td>0</td>\n",
       "      <td>S00090303</td>\n",
       "      <td>S01006514</td>\n",
       "      <td>S02001237</td>\n",
       "      <td>S12000033</td>\n",
       "      <td>NaN</td>\n",
       "      <td>NaN</td>\n",
       "      <td>Aberdeen City</td>\n",
       "      <td>NaN</td>\n",
       "    </tr>\n",
       "    <tr>\n",
       "      <th>1</th>\n",
       "      <td>AB1 0AB</td>\n",
       "      <td>AB1  0AB</td>\n",
       "      <td>AB1 0AB</td>\n",
       "      <td>198001</td>\n",
       "      <td>199606.0</td>\n",
       "      <td>0</td>\n",
       "      <td>S00090303</td>\n",
       "      <td>S01006514</td>\n",
       "      <td>S02001237</td>\n",
       "      <td>S12000033</td>\n",
       "      <td>NaN</td>\n",
       "      <td>NaN</td>\n",
       "      <td>Aberdeen City</td>\n",
       "      <td>NaN</td>\n",
       "    </tr>\n",
       "    <tr>\n",
       "      <th>2</th>\n",
       "      <td>AB1 0AD</td>\n",
       "      <td>AB1  0AD</td>\n",
       "      <td>AB1 0AD</td>\n",
       "      <td>198001</td>\n",
       "      <td>199606.0</td>\n",
       "      <td>0</td>\n",
       "      <td>S00090399</td>\n",
       "      <td>S01006514</td>\n",
       "      <td>S02001237</td>\n",
       "      <td>S12000033</td>\n",
       "      <td>NaN</td>\n",
       "      <td>NaN</td>\n",
       "      <td>Aberdeen City</td>\n",
       "      <td>NaN</td>\n",
       "    </tr>\n",
       "    <tr>\n",
       "      <th>3</th>\n",
       "      <td>AB1 0AE</td>\n",
       "      <td>AB1  0AE</td>\n",
       "      <td>AB1 0AE</td>\n",
       "      <td>199402</td>\n",
       "      <td>199606.0</td>\n",
       "      <td>0</td>\n",
       "      <td>S00091322</td>\n",
       "      <td>S01006853</td>\n",
       "      <td>S02001296</td>\n",
       "      <td>S12000034</td>\n",
       "      <td>NaN</td>\n",
       "      <td>NaN</td>\n",
       "      <td>Aberdeenshire</td>\n",
       "      <td>NaN</td>\n",
       "    </tr>\n",
       "    <tr>\n",
       "      <th>4</th>\n",
       "      <td>AB1 0AF</td>\n",
       "      <td>AB1  0AF</td>\n",
       "      <td>AB1 0AF</td>\n",
       "      <td>199012</td>\n",
       "      <td>199207.0</td>\n",
       "      <td>1</td>\n",
       "      <td>S00090299</td>\n",
       "      <td>S01006511</td>\n",
       "      <td>S02001236</td>\n",
       "      <td>S12000033</td>\n",
       "      <td>NaN</td>\n",
       "      <td>NaN</td>\n",
       "      <td>Aberdeen City</td>\n",
       "      <td>NaN</td>\n",
       "    </tr>\n",
       "  </tbody>\n",
       "</table>\n",
       "</div>"
      ]
     },
     "execution_count": 7,
     "metadata": {},
     "output_type": "execute_result"
    }
   ],
   "execution_count": 7
  },
  {
   "metadata": {
    "ExecuteTime": {
     "end_time": "2025-04-07T20:25:56.721933Z",
     "start_time": "2025-04-07T20:25:56.461492Z"
    }
   },
   "cell_type": "code",
   "source": [
    "# List of Greater Manchester local authorities\n",
    "gm_local_authorities = [\n",
    "    \"Bolton\", \"Bury\", \"Manchester\", \"Oldham\", \"Rochdale\",\n",
    "    \"Salford\", \"Stockport\", \"Tameside\", \"Trafford\", \"Wigan\"\n",
    "]\n",
    "\n",
    "# Filter the dataset to only include Greater Manchester areas\n",
    "gm_lookup = lookup_df[lookup_df['ladnm'].isin(gm_local_authorities)]\n",
    "\n",
    "# Check how many records we have for Greater Manchester\n",
    "print(f\"Total records in Greater Manchester: {len(gm_lookup)}\")\n",
    "\n",
    "# Preview the filtered data\n",
    "print(gm_lookup.head())\n"
   ],
   "id": "510879cb5591e2e7",
   "outputs": [
    {
     "name": "stdout",
     "output_type": "stream",
     "text": [
      "Total records in Greater Manchester: 114801\n",
      "           pcd7      pcd8     pcds  dointr    doterm  usertype     oa21cd  \\\n",
      "199332  BL0 0AA  BL0  0AA  BL0 0AA  198001       NaN         0  E00025401   \n",
      "199333  BL0 0AB  BL0  0AB  BL0 0AB  198001       NaN         0  E00025393   \n",
      "199334  BL0 0AD  BL0  0AD  BL0 0AD  201007       NaN         0  E00025393   \n",
      "199335  BL0 0AE  BL0  0AE  BL0 0AE  199002  202205.0         1  E00025393   \n",
      "199337  BL0 0AG  BL0  0AG  BL0 0AG  198001       NaN         0  E00025384   \n",
      "\n",
      "         lsoa21cd   msoa21cd      ladcd   lsoa21nm  msoa21nm ladnm ladnmw  \n",
      "199332  E01005014  E02001019  E08000002  Bury 001A  Bury 001  Bury    NaN  \n",
      "199333  E01005014  E02001019  E08000002  Bury 001A  Bury 001  Bury    NaN  \n",
      "199334  E01005014  E02001019  E08000002  Bury 001A  Bury 001  Bury    NaN  \n",
      "199335  E01005014  E02001019  E08000002  Bury 001A  Bury 001  Bury    NaN  \n",
      "199337  E01005017  E02001019  E08000002  Bury 001D  Bury 001  Bury    NaN  \n"
     ]
    }
   ],
   "execution_count": 11
  },
  {
   "metadata": {
    "ExecuteTime": {
     "end_time": "2025-04-07T20:25:58.656293Z",
     "start_time": "2025-04-07T20:25:58.627358Z"
    }
   },
   "cell_type": "code",
   "source": [
    "# Rename columns to make them more clear\n",
    "gm_lookup = gm_lookup.rename(columns={\n",
    "    'pcd7': 'postcode_7char',\n",
    "    'pcd8': 'postcode_8char',\n",
    "    'pcds': 'postcode_full',\n",
    "    'dointr': 'date_introduced',\n",
    "    'doterm': 'date_terminated',\n",
    "    'usertype': 'user_type',\n",
    "    'oa21cd': 'output_area_code',\n",
    "    'lsoa21cd': 'lsoa_code',\n",
    "    'msoa21cd': 'msoa_code',\n",
    "    'ladcd': 'local_authority_code',\n",
    "    'lsoa21nm': 'lsoa_name',\n",
    "    'msoa21nm': 'msoa_name',\n",
    "    'ladnm': 'local_authority_name',\n",
    "    'ladnmw': 'local_authority_name_welsh'\n",
    "})\n",
    "\n",
    "# Check the new column names\n",
    "print(gm_lookup.columns)\n",
    "\n",
    "# Preview the dataframe with new column names\n",
    "print(gm_lookup.head())"
   ],
   "id": "37f5f62e3db148b1",
   "outputs": [
    {
     "name": "stdout",
     "output_type": "stream",
     "text": [
      "Index(['postcode_7char', 'postcode_8char', 'postcode_full', 'date_introduced',\n",
      "       'date_terminated', 'user_type', 'output_area_code', 'lsoa_code',\n",
      "       'msoa_code', 'local_authority_code', 'lsoa_name', 'msoa_name',\n",
      "       'local_authority_name', 'local_authority_name_welsh'],\n",
      "      dtype='object')\n",
      "       postcode_7char postcode_8char postcode_full  date_introduced  \\\n",
      "199332        BL0 0AA       BL0  0AA       BL0 0AA           198001   \n",
      "199333        BL0 0AB       BL0  0AB       BL0 0AB           198001   \n",
      "199334        BL0 0AD       BL0  0AD       BL0 0AD           201007   \n",
      "199335        BL0 0AE       BL0  0AE       BL0 0AE           199002   \n",
      "199337        BL0 0AG       BL0  0AG       BL0 0AG           198001   \n",
      "\n",
      "        date_terminated  user_type output_area_code  lsoa_code  msoa_code  \\\n",
      "199332              NaN          0        E00025401  E01005014  E02001019   \n",
      "199333              NaN          0        E00025393  E01005014  E02001019   \n",
      "199334              NaN          0        E00025393  E01005014  E02001019   \n",
      "199335         202205.0          1        E00025393  E01005014  E02001019   \n",
      "199337              NaN          0        E00025384  E01005017  E02001019   \n",
      "\n",
      "       local_authority_code  lsoa_name msoa_name local_authority_name  \\\n",
      "199332            E08000002  Bury 001A  Bury 001                 Bury   \n",
      "199333            E08000002  Bury 001A  Bury 001                 Bury   \n",
      "199334            E08000002  Bury 001A  Bury 001                 Bury   \n",
      "199335            E08000002  Bury 001A  Bury 001                 Bury   \n",
      "199337            E08000002  Bury 001D  Bury 001                 Bury   \n",
      "\n",
      "       local_authority_name_welsh  \n",
      "199332                        NaN  \n",
      "199333                        NaN  \n",
      "199334                        NaN  \n",
      "199335                        NaN  \n",
      "199337                        NaN  \n"
     ]
    }
   ],
   "execution_count": 12
  },
  {
   "metadata": {
    "ExecuteTime": {
     "end_time": "2025-04-07T20:26:10.142698Z",
     "start_time": "2025-04-07T20:26:09.560323Z"
    }
   },
   "cell_type": "code",
   "source": [
    "# Save the filtered dataset\n",
    "gm_lookup.to_csv(\"data/gm_lookup.csv\", index=False)"
   ],
   "id": "18afefb9a1b0772",
   "outputs": [],
   "execution_count": 13
  }
 ],
 "metadata": {
  "kernelspec": {
   "display_name": "Python 3",
   "language": "python",
   "name": "python3"
  },
  "language_info": {
   "codemirror_mode": {
    "name": "ipython",
    "version": 2
   },
   "file_extension": ".py",
   "mimetype": "text/x-python",
   "name": "python",
   "nbconvert_exporter": "python",
   "pygments_lexer": "ipython2",
   "version": "2.7.6"
  }
 },
 "nbformat": 4,
 "nbformat_minor": 5
}
