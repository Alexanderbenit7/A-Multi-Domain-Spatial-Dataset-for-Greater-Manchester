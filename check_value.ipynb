{
 "cells": [
  {
   "cell_type": "code",
   "id": "initial_id",
   "metadata": {
    "collapsed": true,
    "ExecuteTime": {
     "end_time": "2025-04-20T16:33:18.111414Z",
     "start_time": "2025-04-20T16:33:18.075982Z"
    }
   },
   "source": [
    "import pandas as pd\n",
    "\n",
    "# Load your dataset\n",
    "df = pd.read_csv('final/transport/cycle_hubs_final.csv')  # replace with your file path\n",
    "\n",
    "# Check for duplicates in a specific column\n",
    "column_name = 'lsoa_code'  # replace with your column name\n",
    "\n",
    "# Count occurrences of each value\n",
    "value_counts = df[column_name].value_counts()\n",
    "\n",
    "# Filter only those that appear more than once (i.e., duplicates)\n",
    "duplicates = value_counts[value_counts > 1]\n",
    "\n",
    "# Show the duplicate values and their counts\n",
    "print(duplicates)\n"
   ],
   "outputs": [
    {
     "name": "stdout",
     "output_type": "stream",
     "text": [
      "E01005482    2\n",
      "Name: lsoa_code, dtype: int64\n"
     ]
    }
   ],
   "execution_count": 15
  },
  {
   "metadata": {
    "ExecuteTime": {
     "end_time": "2025-04-20T16:33:38.119901Z",
     "start_time": "2025-04-20T16:33:37.968484Z"
    }
   },
   "cell_type": "code",
   "source": [
    "import pandas as pd\n",
    "\n",
    "# Load your dataset\n",
    "df = pd.read_csv('final/transport/gmal_final.csv')  # replace with your file path\n",
    "\n",
    "# Check for duplicates in a specific column\n",
    "column_name = 'lsoa_code'  # replace with your column name\n",
    "\n",
    "# Count occurrences of each value\n",
    "value_counts = df[column_name].value_counts()\n",
    "\n",
    "# Filter only those that appear more than once (i.e., duplicates)\n",
    "duplicates = value_counts[value_counts > 1]\n",
    "\n",
    "# Show the duplicate values and their counts\n",
    "print(duplicates)\n"
   ],
   "id": "be4cd394fd5b1034",
   "outputs": [
    {
     "name": "stdout",
     "output_type": "stream",
     "text": [
      "E01033658    331\n",
      "E01005948    238\n",
      "E01033651    234\n",
      "E01006369    225\n",
      "E01033653    179\n",
      "            ... \n",
      "E01033999     16\n",
      "E01005829     15\n",
      "E01005537     13\n",
      "E01033994     13\n",
      "E01034136     13\n",
      "Name: lsoa_code, Length: 1702, dtype: int64\n"
     ]
    }
   ],
   "execution_count": 17
  },
  {
   "metadata": {
    "ExecuteTime": {
     "end_time": "2025-04-20T16:33:50.546575Z",
     "start_time": "2025-04-20T16:33:50.531476Z"
    }
   },
   "cell_type": "code",
   "source": [
    "import pandas as pd\n",
    "\n",
    "# Load your dataset\n",
    "df = pd.read_csv('final/health/gp_practices_final.csv')  # replace with your file path\n",
    "\n",
    "# Check for duplicates in a specific column\n",
    "column_name = 'lsoa_code'  # replace with your column name\n",
    "\n",
    "# Count occurrences of each value\n",
    "value_counts = df[column_name].value_counts()\n",
    "\n",
    "# Filter only those that appear more than once (i.e., duplicates)\n",
    "duplicates = value_counts[value_counts > 1]\n",
    "\n",
    "# Show the duplicate values and their counts\n",
    "print(duplicates)\n"
   ],
   "id": "f2fd5c68cf6ebcca",
   "outputs": [
    {
     "name": "stdout",
     "output_type": "stream",
     "text": [
      "E01006370    37\n",
      "E01006330    17\n",
      "E01005350    17\n",
      "E01005482    12\n",
      "E01005027    12\n",
      "             ..\n",
      "E01005114     2\n",
      "E01005381     2\n",
      "E01004869     2\n",
      "E01005061     2\n",
      "E01005924     2\n",
      "Name: lsoa_code, Length: 183, dtype: int64\n"
     ]
    }
   ],
   "execution_count": 18
  },
  {
   "metadata": {
    "ExecuteTime": {
     "end_time": "2025-04-21T22:27:05.626286Z",
     "start_time": "2025-04-21T22:27:05.616488Z"
    }
   },
   "cell_type": "code",
   "source": [
    "import pandas as pd\n",
    "\n",
    "# Load your dataset\n",
    "df = pd.read_csv('final/transport/metrolink_stops_and_rail_stations_final.csv')  # replace with your file path\n",
    "\n",
    "# Check for duplicates in a specific column\n",
    "column_name = 'LSOA_ID'  # replace with your column name\n",
    "\n",
    "# Count occurrences of each value\n",
    "value_counts = df[column_name].value_counts()\n",
    "\n",
    "# Filter only those that appear more than once (i.e., duplicates)\n",
    "duplicates = value_counts[value_counts > 1]\n",
    "\n",
    "# Show the duplicate values and their counts\n",
    "print(duplicates)\n"
   ],
   "id": "79ff61185fc6cfe7",
   "outputs": [
    {
     "name": "stdout",
     "output_type": "stream",
     "text": [
      "E01006157    5\n",
      "E01033658    4\n",
      "E01006075    2\n",
      "E01005316    2\n",
      "E01006036    2\n",
      "E01006145    2\n",
      "E01005951    2\n",
      "E01005482    2\n",
      "E01033669    2\n",
      "E01033995    2\n",
      "E01033661    2\n",
      "E01006078    2\n",
      "E01005317    2\n",
      "E01034131    2\n",
      "E01006121    2\n",
      "E01005948    2\n",
      "E01033997    2\n",
      "Name: LSOA_ID, dtype: int64\n"
     ]
    }
   ],
   "execution_count": 25
  },
  {
   "metadata": {
    "ExecuteTime": {
     "end_time": "2025-04-21T22:27:46.237837Z",
     "start_time": "2025-04-21T22:27:46.197882Z"
    }
   },
   "cell_type": "code",
   "source": [
    "import pandas as pd\n",
    "\n",
    "# Load your dataset\n",
    "df = pd.read_csv('final/transport/traffic_signal_locations_final.csv')  # replace with your file path\n",
    "\n",
    "# Check for duplicates in a specific column\n",
    "column_name = 'LSOA_ID'  # replace with your column name\n",
    "\n",
    "# Count occurrences of each value\n",
    "value_counts = df[column_name].value_counts()\n",
    "\n",
    "# Filter only those that appear more than once (i.e., duplicates)\n",
    "duplicates = value_counts[value_counts > 1]\n",
    "\n",
    "# Show the duplicate values and their counts\n",
    "print(duplicates)"
   ],
   "id": "57e05680e9725b94",
   "outputs": [
    {
     "name": "stdout",
     "output_type": "stream",
     "text": [
      "E01005948    24\n",
      "E01033658    23\n",
      "E01006157    20\n",
      "E01006349    20\n",
      "E01006121    18\n",
      "             ..\n",
      "E01006303     2\n",
      "E01005421     2\n",
      "E01005966     2\n",
      "E01006041     2\n",
      "E01006346     2\n",
      "Name: LSOA_ID, Length: 563, dtype: int64\n"
     ]
    }
   ],
   "execution_count": 26
  },
  {
   "metadata": {
    "ExecuteTime": {
     "end_time": "2025-04-29T23:34:31.420287Z",
     "start_time": "2025-04-29T23:34:31.377712Z"
    }
   },
   "cell_type": "code",
   "source": [
    "import pandas as pd\n",
    "\n",
    "# Load your dataset\n",
    "df = pd.read_csv('final/communications/fixed_performance_final.csv')  # replace with your file path\n",
    "\n",
    "# Check for duplicates in a specific column\n",
    "column_name = 'LSOA_ID'  # replace with your column name\n",
    "\n",
    "# Count occurrences of each value\n",
    "value_counts = df[column_name].value_counts()\n",
    "\n",
    "# Filter only those that appear more than once (i.e., duplicates)\n",
    "duplicates = value_counts[value_counts > 1]\n",
    "\n",
    "# Show the duplicate values and their counts\n",
    "print(duplicates)"
   ],
   "id": "74b458b099ab392c",
   "outputs": [
    {
     "name": "stdout",
     "output_type": "stream",
     "text": [
      "E01005208    10\n",
      "E01005702    10\n",
      "E01006091    10\n",
      "E01032922     9\n",
      "E01005295     9\n",
      "             ..\n",
      "E01005182     3\n",
      "E01034125     3\n",
      "E01005210     2\n",
      "E01033980     2\n",
      "E01034116     2\n",
      "Name: LSOA_ID, Length: 1702, dtype: int64\n"
     ]
    }
   ],
   "execution_count": 3
  }
 ],
 "metadata": {
  "kernelspec": {
   "display_name": "Python 3",
   "language": "python",
   "name": "python3"
  },
  "language_info": {
   "codemirror_mode": {
    "name": "ipython",
    "version": 2
   },
   "file_extension": ".py",
   "mimetype": "text/x-python",
   "name": "python",
   "nbconvert_exporter": "python",
   "pygments_lexer": "ipython2",
   "version": "2.7.6"
  }
 },
 "nbformat": 4,
 "nbformat_minor": 5
}
