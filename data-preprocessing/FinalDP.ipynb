{
 "cells": [
  {
   "cell_type": "code",
   "execution_count": 1,
   "id": "06448f25-ff42-4037-b5b2-92758447701b",
   "metadata": {},
   "outputs": [],
   "source": [
    "import pandas as pd\n",
    "import os"
   ]
  },
  {
   "cell_type": "code",
   "execution_count": 6,
   "id": "91442e99-e8ea-4a53-8a5d-4e5260ca1b00",
   "metadata": {},
   "outputs": [],
   "source": [
    "# Set the file paths\n",
    "da15_file_path = \"/Users/alexander/Documents/MSc Data Science/S2/Applying Data Science/dp/processed/Buildings/dwelling_ages_gm2015.csv\"\n",
    "da21_file_path = \"/Users/alexander/Documents/MSc Data Science/S2/Applying Data Science/dp/processed/Buildings/dwelling_ages_gm2021.csv\"\n",
    "fire_file_path = \"/Users/alexander/Documents/MSc Data Science/S2/Applying Data Science/dp/processed/Buildings/fire_gm.csv\"\n",
    "flooding16_file_path = \"/Users/alexander/Documents/MSc Data Science/S2/Applying Data Science/dp/processed/Buildings/flooding2016.csv\"\n",
    "flooding18_file_path = \"/Users/alexander/Documents/MSc Data Science/S2/Applying Data Science/dp/processed/Buildings/flooding2018.csv\"\n",
    "flooding20_file_path = \"/Users/alexander/Documents/MSc Data Science/S2/Applying Data Science/dp/processed/Buildings/flooding2020.csv\"\n",
    "accomm01_file_path = \"/Users/alexander/Documents/MSc Data Science/S2/Applying Data Science/dp/processed/Buildings/gm_accomm2001.csv\"\n",
    "accomm11_file_path = \"/Users/alexander/Documents/MSc Data Science/S2/Applying Data Science/dp/processed/Buildings/gm_accomm2011.csv\"\n",
    "accomm21_file_path = \"/Users/alexander/Documents/MSc Data Science/S2/Applying Data Science/dp/processed/Buildings/gm_accomm2021.csv\"\n",
    "hosp_file_path = \"/Users/alexander/Documents/MSc Data Science/S2/Applying Data Science/dp/processed/Buildings/hospitals.csv\"\n",
    "schools_file_path = \"/Users/alexander/Documents/MSc Data Science/S2/Applying Data Science/dp/processed/Buildings/schools_gm.csv\"\n",
    "\n",
    "# Read the CSV files\n",
    "d15 = pd.read_csv(da15_file_path)\n",
    "d21 = pd.read_csv(da21_file_path)\n",
    "fire = pd.read_csv(fire_file_path)\n",
    "flood16 = pd.read_csv(flooding16_file_path) # LAD area. No preprocessing left.\n",
    "flood18 = pd.read_csv(flooding18_file_path) # LAD area. No preprocessing left.\n",
    "flood20 = pd.read_csv(flooding20_file_path) # LAD area. No preprocessing left.\n",
    "accomm01 = pd.read_csv(accomm01_file_path) # Complete\n",
    "accomm11 = pd.read_csv(accomm11_file_path) # Complete\n",
    "accomm21 = pd.read_csv(accomm21_file_path) # Complete\n",
    "hospitals = pd.read_csv(hosp_file_path)\n",
    "schools = pd.read_csv(schools_file_path)\n",
    "\n",
    "# Base directory\n",
    "base_dir = \"/Users/alexander/Documents/MSc Data Science/S2/Applying Data Science/dp/processed/Buildings/hh_by_year\"\n",
    "\n",
    "# Years range\n",
    "years = range(2004, 2017 + 1)\n",
    "\n",
    "# Dictionary to hold DataFrames\n",
    "hh_data = {}\n",
    "\n",
    "# Load each file\n",
    "for year in years:\n",
    "    file_name = f\"hh_gm_{year}.csv\"\n",
    "    file_path = os.path.join(base_dir, file_name)\n",
    "    hh_data[year] = pd.read_csv(file_path)"
   ]
  },
  {
   "cell_type": "markdown",
   "id": "9c3d3215-bae2-4d1a-94af-7edd1b80b291",
   "metadata": {},
   "source": [
    "### 1. LSOA areas per year\n",
    "\n",
    "Making sure every table contains the same number of LSOA\n",
    "\n",
    "+ 2001: 1646\n",
    "+ 2011: 1673\n",
    "+ 2021: 1702"
   ]
  },
  {
   "cell_type": "code",
   "execution_count": 9,
   "id": "03b7b692-5af3-4dd3-a6c0-f43d69aa4bfe",
   "metadata": {},
   "outputs": [],
   "source": [
    "lsoa2021 = pd.read_csv(\"/Users/alexander/Documents/MSc Data Science/S2/Applying Data Science/dp/lookup/processed/gm_lsoas2021.csv\")"
   ]
  },
  {
   "cell_type": "markdown",
   "id": "129719f6-5d75-4b7d-b432-3063d64acc96",
   "metadata": {},
   "source": [
    "### 1.1. Buildings "
   ]
  },
  {
   "cell_type": "code",
   "execution_count": 22,
   "id": "5d9db215-6c9c-45a0-8566-0af421f99732",
   "metadata": {},
   "outputs": [
    {
     "name": "stdout",
     "output_type": "stream",
     "text": [
      "95 LSOAs were missing in the original d15 and have been added with NaNs.\n"
     ]
    }
   ],
   "source": [
    "## Dwelling Ages from 2015\n",
    "# First, create a base from lsoa2021 with the columns you want to merge on\n",
    "base = lsoa2021[['lsoa21cd', 'lsoa21nm']].rename(columns={\n",
    "    'lsoa21cd': 'LSOA_ID',\n",
    "    'lsoa21nm': 'lsoa21nm'  # Already the same, but keeping for clarity\n",
    "})\n",
    "\n",
    "# Add YEAR and TYPE from existing d15 (we assume they're the same throughout the dataset)\n",
    "default_year = d15['YEAR'].iloc[0]\n",
    "default_type = d15['TYPE'].iloc[0]\n",
    "\n",
    "base['YEAR'] = default_year\n",
    "base['TYPE'] = default_type\n",
    "\n",
    "# Merge with d15 using outer join and prioritising d15 data\n",
    "d15_full = pd.merge(base, d15, on=['LSOA_ID', 'lsoa21nm', 'YEAR', 'TYPE'], how='left')\n",
    "\n",
    "# Fill in values from base where d15 had missing rows\n",
    "# This will automatically give NaN for all columns not in the original base\n",
    "# No need to do anything more unless you want to explicitly sort\n",
    "\n",
    "# Optional: check how many new rows were added\n",
    "n_missing = d15_full['BP_PRE_1900'].isna().sum()\n",
    "print(f\"{n_missing} LSOAs were missing in the original d15 and have been added with NaNs.\")"
   ]
  },
  {
   "cell_type": "code",
   "execution_count": 23,
   "id": "47846c5f-2800-4bfd-9fe2-cf8098ef8b82",
   "metadata": {},
   "outputs": [],
   "source": [
    "# Set the export path\n",
    "export_path = \"/Users/alexander/Documents/MSc Data Science/S2/Applying Data Science/dp/final_versions/dwelling_ages_gm2015_full.csv\"\n",
    "\n",
    "# Export to CSV\n",
    "d15_full.to_csv(export_path, index=False)"
   ]
  },
  {
   "cell_type": "code",
   "execution_count": 24,
   "id": "8ca8dcda-89f0-4dbc-8af1-e6ead1e18582",
   "metadata": {},
   "outputs": [
    {
     "name": "stdout",
     "output_type": "stream",
     "text": [
      "66 LSOAs were missing in the original d21 and have been added with NaNs.\n",
      "File exported to: /Users/alexander/Documents/MSc Data Science/S2/Applying Data Science/dp/final_versions/dwelling_ages_gm2021_full.csv\n"
     ]
    }
   ],
   "source": [
    "## Dwelling Ages from 2021\n",
    "# Create base with LSOA ID and name from lsoa2021\n",
    "base21 = lsoa2021[['lsoa21cd', 'lsoa21nm']].rename(columns={\n",
    "    'lsoa21cd': 'LSOA_ID',\n",
    "    'lsoa21nm': 'lsoa21nm'\n",
    "})\n",
    "\n",
    "# Set default values for year and TYPE from d21\n",
    "default_year_21 = d21['year'].iloc[0]\n",
    "default_type_21 = d21['TYPE'].iloc[0]\n",
    "\n",
    "# Add these to the base\n",
    "base21['year'] = default_year_21\n",
    "base21['TYPE'] = default_type_21\n",
    "\n",
    "# Merge with d21\n",
    "d21_full = pd.merge(base21, d21, on=['LSOA_ID', 'lsoa21nm', 'year', 'TYPE'], how='left')\n",
    "\n",
    "# Check how many LSOAs were missing originally\n",
    "n_missing_21 = d21_full['dwe_p45pc'].isna().sum()\n",
    "print(f\"{n_missing_21} LSOAs were missing in the original d21 and have been added with NaNs.\")\n",
    "\n",
    "# Export the result\n",
    "export_path_21 = \"/Users/alexander/Documents/MSc Data Science/S2/Applying Data Science/dp/final_versions/dwelling_ages_gm2021_full.csv\"\n",
    "d21_full.to_csv(export_path_21, index=False)\n",
    "\n",
    "print(f\"File exported to: {export_path_21}\")"
   ]
  },
  {
   "cell_type": "code",
   "execution_count": 27,
   "id": "0c2ec4da-5489-4e25-bb6c-c8a30af29452",
   "metadata": {},
   "outputs": [
    {
     "name": "stdout",
     "output_type": "stream",
     "text": [
      "File exported to: /Users/alexander/Documents/MSc Data Science/S2/Applying Data Science/dp/final_versions/fire_gm_2024.csv\n"
     ]
    }
   ],
   "source": [
    "## Fire stations: already has 1702 areas\n",
    "\n",
    "# Add YEAR column\n",
    "fire['YEAR'] = 2024\n",
    "\n",
    "# Optional: reorder columns to place YEAR after lsoa21nm\n",
    "cols = ['LSOA_ID', 'lsoa21nm', 'YEAR'] + [col for col in fire.columns if col not in ['LSOA_ID', 'lsoa21nm', 'YEAR']]\n",
    "fire = fire[cols]\n",
    "\n",
    "# Export path\n",
    "fire_export_path = \"/Users/alexander/Documents/MSc Data Science/S2/Applying Data Science/dp/final_versions/fire_gm_2024.csv\"\n",
    "\n",
    "# Export to CSV\n",
    "fire.to_csv(fire_export_path, index=False)\n",
    "\n",
    "print(f\"File exported to: {fire_export_path}\")"
   ]
  },
  {
   "cell_type": "code",
   "execution_count": 36,
   "id": "6d48f237-996e-458f-b1ab-bf6c1d325e2b",
   "metadata": {},
   "outputs": [
    {
     "name": "stdout",
     "output_type": "stream",
     "text": [
      "File exported to: /Users/alexander/Documents/MSc Data Science/S2/Applying Data Science/dp/final_versions/hospitals_gm_2017.csv\n"
     ]
    }
   ],
   "source": [
    "## Hospitals\n",
    "\n",
    "# Add YEAR column\n",
    "hospitals['YEAR'] = 2017\n",
    "\n",
    "# Optional: reorder columns to keep it tidy\n",
    "cols = ['LSOA_ID', 'lsoa21nm', 'YEAR', 'n_hospitals', 'TYPE']\n",
    "hospitals = hospitals[cols]\n",
    "\n",
    "# Export path\n",
    "hospitals_export_path = \"/Users/alexander/Documents/MSc Data Science/S2/Applying Data Science/dp/final_versions/hospitals_gm_2017.csv\"\n",
    "\n",
    "# Export\n",
    "hospitals.to_csv(hospitals_export_path, index=False)\n",
    "\n",
    "print(f\"File exported to: {hospitals_export_path}\")"
   ]
  },
  {
   "cell_type": "code",
   "execution_count": 41,
   "id": "1e54d97d-d188-469e-9977-e0909b114021",
   "metadata": {},
   "outputs": [
    {
     "name": "stdout",
     "output_type": "stream",
     "text": [
      "File exported to: /Users/alexander/Documents/MSc Data Science/S2/Applying Data Science/dp/final_versions/schools_gm_2025.csv\n"
     ]
    }
   ],
   "source": [
    "# Merge lsoa21nm from lsoa2021\n",
    "schools = schools.merge(\n",
    "    lsoa2021[['lsoa21cd', 'lsoa21nm']].rename(columns={'lsoa21cd': 'LSOA_ID'}),\n",
    "    on='LSOA_ID',\n",
    "    how='left'\n",
    ")\n",
    "\n",
    "# Add YEAR\n",
    "schools['YEAR'] = 2025\n",
    "\n",
    "# Reorder columns\n",
    "cols = ['LSOA_ID', 'lsoa21nm', 'YEAR'] + [col for col in schools.columns if col not in ['LSOA_ID', 'lsoa21nm', 'YEAR']]\n",
    "schools = schools[cols]\n",
    "\n",
    "# Export path\n",
    "schools_export_path = \"/Users/alexander/Documents/MSc Data Science/S2/Applying Data Science/dp/final_versions/schools_gm_2025.csv\"\n",
    "\n",
    "# Export\n",
    "schools.to_csv(schools_export_path, index=False)\n",
    "\n",
    "print(f\"File exported to: {schools_export_path}\")\n"
   ]
  },
  {
   "cell_type": "markdown",
   "id": "e04f5303-f5d8-49ff-b227-3fc0b299a99e",
   "metadata": {},
   "source": [
    "## Adding MSOA areas"
   ]
  },
  {
   "cell_type": "code",
   "execution_count": 2,
   "id": "4c5a7aa4-2dd1-4583-8548-f35a65054bb5",
   "metadata": {},
   "outputs": [],
   "source": [
    "msoa21 = pd.read_csv(\"/Users/alexander/Documents/MSc Data Science/S2/Applying Data Science/dp/lookup/processed/gm_lsoas2021.csv\")"
   ]
  },
  {
   "cell_type": "code",
   "execution_count": 3,
   "id": "169d1f72-d296-4147-8fa8-11e66d656392",
   "metadata": {},
   "outputs": [],
   "source": [
    "da15 = pd.read_csv(\"/Users/alexander/Documents/MSc Data Science/S2/Applying Data Science/dp/final_versions/buildings/dwelling_ages_gm2015_full.csv\")\n",
    "da21 = pd.read_csv(\"/Users/alexander/Documents/MSc Data Science/S2/Applying Data Science/dp/final_versions/buildings/dwelling_ages_gm2021_full.csv\")\n",
    "fire = pd.read_csv(\"/Users/alexander/Documents/MSc Data Science/S2/Applying Data Science/dp/final_versions/buildings/fire_gm_2024.csv\")\n",
    "a01 = pd.read_csv(\"/Users/alexander/Documents/MSc Data Science/S2/Applying Data Science/dp/final_versions/buildings/gm_accomm2001.csv\")\n",
    "a11 = pd.read_csv(\"/Users/alexander/Documents/MSc Data Science/S2/Applying Data Science/dp/final_versions/buildings/gm_accomm2011.csv\")\n",
    "a21 = pd.read_csv(\"/Users/alexander/Documents/MSc Data Science/S2/Applying Data Science/dp/final_versions/buildings/gm_accomm2021.csv\")\n",
    "hops = pd.read_csv(\"/Users/alexander/Documents/MSc Data Science/S2/Applying Data Science/dp/final_versions/buildings/hospitals_gm_2017.csv\")\n",
    "school = pd.read_csv(\"/Users/alexander/Documents/MSc Data Science/S2/Applying Data Science/dp/final_versions/buildings/schools_gm_2025.csv\")"
   ]
  },
  {
   "cell_type": "code",
   "execution_count": 12,
   "id": "b3f1754e-5538-4859-854a-ea7dd5172127",
   "metadata": {},
   "outputs": [
    {
     "name": "stdout",
     "output_type": "stream",
     "text": [
      "File exported to: /Users/alexander/Documents/MSc Data Science/S2/Applying Data Science/dp/final_versions/updatedMSOA/dwelling_ages_gm2015_full.csv\n"
     ]
    }
   ],
   "source": [
    "# Merge msoa21 info into da15\n",
    "merged = da15.merge(\n",
    "    msoa21[['lsoa21cd', 'msoa21cd', 'msoa21nm']],\n",
    "    left_on='LSOA_ID',\n",
    "    right_on='lsoa21cd',\n",
    "    how='left'\n",
    ")\n",
    "\n",
    "# Rename MSOA columns\n",
    "merged = merged.rename(columns={\n",
    "    'msoa21cd': 'MSOA_ID',\n",
    "    'msoa21nm': 'msoa21nm'\n",
    "})\n",
    "\n",
    "# Drop redundant column\n",
    "merged = merged.drop(columns=['lsoa21cd'])\n",
    "\n",
    "# Reorder columns\n",
    "cols = merged.columns.tolist()\n",
    "# Find indices to split and reorder\n",
    "before = ['LSOA_ID', 'lsoa21nm']\n",
    "insert = ['MSOA_ID', 'msoa21nm']\n",
    "after = [col for col in cols if col not in before + insert]\n",
    "\n",
    "# Final column order\n",
    "merged = merged[before + insert + after]\n",
    "\n",
    "# Export path\n",
    "da15_path = \"/Users/alexander/Documents/MSc Data Science/S2/Applying Data Science/dp/final_versions/updatedMSOA/dwelling_ages_gm2015_full.csv\"\n",
    "\n",
    "# Export\n",
    "merged.to_csv(da15_path, index=False)\n",
    "\n",
    "print(f\"File exported to: {da15_path}\")"
   ]
  },
  {
   "cell_type": "code",
   "execution_count": 15,
   "id": "a7c33789-aef3-4710-b27d-2d1eaf27c277",
   "metadata": {},
   "outputs": [
    {
     "name": "stdout",
     "output_type": "stream",
     "text": [
      "File exported to: /Users/alexander/Documents/MSc Data Science/S2/Applying Data Science/dp/final_versions/updatedMSOA/dwelling_quality_gm2021_full.csv\n"
     ]
    }
   ],
   "source": [
    "# Merge msoa21 info into da21\n",
    "merged_da21 = da21.merge(\n",
    "    msoa21[['lsoa21cd', 'msoa21cd', 'msoa21nm']],\n",
    "    left_on='LSOA_ID',\n",
    "    right_on='lsoa21cd',\n",
    "    how='left'\n",
    ")\n",
    "\n",
    "# Rename MSOA columns\n",
    "merged_da21 = merged_da21.rename(columns={\n",
    "    'msoa21cd': 'MSOA_ID',\n",
    "    'msoa21nm': 'msoa21nm'\n",
    "})\n",
    "\n",
    "# Drop redundant column\n",
    "merged_da21 = merged_da21.drop(columns=['lsoa21cd'])\n",
    "\n",
    "# Reorder columns\n",
    "cols = merged_da21.columns.tolist()\n",
    "before = ['LSOA_ID', 'lsoa21nm']\n",
    "insert = ['MSOA_ID', 'msoa21nm']\n",
    "after = [col for col in cols if col not in before + insert]\n",
    "\n",
    "# Final column order\n",
    "merged_da21 = merged_da21[before + insert + after]\n",
    "\n",
    "# Export path\n",
    "da21_path = \"/Users/alexander/Documents/MSc Data Science/S2/Applying Data Science/dp/final_versions/updatedMSOA/dwelling_quality_gm2021_full.csv\"\n",
    "\n",
    "# Export\n",
    "merged_da21.to_csv(da21_path, index=False)\n",
    "\n",
    "print(f\"File exported to: {da21_path}\")\n"
   ]
  },
  {
   "cell_type": "code",
   "execution_count": 18,
   "id": "118e2aab-886c-4a0e-b9db-7e9e5766f264",
   "metadata": {},
   "outputs": [
    {
     "name": "stdout",
     "output_type": "stream",
     "text": [
      "File exported to: /Users/alexander/Documents/MSc Data Science/S2/Applying Data Science/dp/final_versions/updatedMSOA/fire_gm_2024.csv\n"
     ]
    }
   ],
   "source": [
    "# Merge msoa21 info into fire\n",
    "merged_fire = fire.merge(\n",
    "    msoa21[['lsoa21cd', 'msoa21cd', 'msoa21nm']],\n",
    "    left_on='LSOA_ID',\n",
    "    right_on='lsoa21cd',\n",
    "    how='left'\n",
    ")\n",
    "\n",
    "# Rename MSOA columns\n",
    "merged_fire = merged_fire.rename(columns={\n",
    "    'msoa21cd': 'MSOA_ID',\n",
    "    'msoa21nm': 'msoa21nm'\n",
    "})\n",
    "\n",
    "# Drop redundant column\n",
    "merged_fire = merged_fire.drop(columns=['lsoa21cd'])\n",
    "\n",
    "# Reorder columns\n",
    "cols = merged_fire.columns.tolist()\n",
    "before = ['LSOA_ID', 'lsoa21nm']\n",
    "insert = ['MSOA_ID', 'msoa21nm']\n",
    "after = [col for col in cols if col not in before + insert]\n",
    "\n",
    "# Final column order\n",
    "merged_fire = merged_fire[before + insert + after]\n",
    "\n",
    "# Export path\n",
    "fire_path = \"/Users/alexander/Documents/MSc Data Science/S2/Applying Data Science/dp/final_versions/updatedMSOA/fire_gm_2024.csv\"\n",
    "\n",
    "# Export\n",
    "merged_fire.to_csv(fire_path, index=False)\n",
    "\n",
    "print(f\"File exported to: {fire_path}\")\n"
   ]
  },
  {
   "cell_type": "code",
   "execution_count": 21,
   "id": "c50d8d90-3bc6-4b16-8e8d-a9da467edcd7",
   "metadata": {},
   "outputs": [
    {
     "name": "stdout",
     "output_type": "stream",
     "text": [
      "File exported to: /Users/alexander/Documents/MSc Data Science/S2/Applying Data Science/dp/final_versions/updatedMSOA/gm_accomm_01.csv\n"
     ]
    }
   ],
   "source": [
    "# Merge msoa21 info into a01\n",
    "merged_a01 = a01.merge(\n",
    "    msoa21[['lsoa21cd', 'msoa21cd', 'msoa21nm']],\n",
    "    left_on='LSOA_ID',\n",
    "    right_on='lsoa21cd',\n",
    "    how='left'\n",
    ")\n",
    "\n",
    "# Rename MSOA columns\n",
    "merged_a01 = merged_a01.rename(columns={\n",
    "    'msoa21cd': 'MSOA_ID',\n",
    "    'msoa21nm': 'msoa21nm'\n",
    "})\n",
    "\n",
    "# Drop redundant column\n",
    "merged_a01 = merged_a01.drop(columns=['lsoa21cd'])\n",
    "\n",
    "# Reorder columns\n",
    "cols = merged_a01.columns.tolist()\n",
    "before = ['LSOA_ID', 'LSOA Name']\n",
    "insert = ['MSOA_ID', 'msoa21nm']\n",
    "after = [col for col in cols if col not in before + insert]\n",
    "\n",
    "# Final column order\n",
    "merged_a01 = merged_a01[before + insert + after]\n",
    "\n",
    "# Export path\n",
    "a01_path = \"/Users/alexander/Documents/MSc Data Science/S2/Applying Data Science/dp/final_versions/updatedMSOA/gm_accomm_01.csv\"\n",
    "\n",
    "# Export\n",
    "merged_a01.to_csv(a01_path, index=False)\n",
    "\n",
    "print(f\"File exported to: {a01_path}\")\n"
   ]
  },
  {
   "cell_type": "code",
   "execution_count": 25,
   "id": "f51775b0-e8c6-4a9e-ac29-ac63061f5bcd",
   "metadata": {},
   "outputs": [
    {
     "name": "stdout",
     "output_type": "stream",
     "text": [
      "File exported to: /Users/alexander/Documents/MSc Data Science/S2/Applying Data Science/dp/final_versions/updatedMSOA/gm_accomm2011.csv\n"
     ]
    }
   ],
   "source": [
    "# Merge msoa21 info into a11\n",
    "merged_a11 = a11.merge(\n",
    "    msoa21[['lsoa21cd', 'msoa21cd', 'msoa21nm']],\n",
    "    left_on='LSOA_ID',\n",
    "    right_on='lsoa21cd',\n",
    "    how='left'\n",
    ")\n",
    "\n",
    "# Rename MSOA columns\n",
    "merged_a11 = merged_a11.rename(columns={\n",
    "    'msoa21cd': 'MSOA_ID',\n",
    "    'msoa21nm': 'msoa21nm'\n",
    "})\n",
    "\n",
    "# Drop redundant column\n",
    "merged_a11 = merged_a11.drop(columns=['lsoa21cd'])\n",
    "\n",
    "# Reorder columns\n",
    "cols = merged_a11.columns.tolist()\n",
    "before = ['LSOA_ID', 'LSOA Name']\n",
    "insert = ['MSOA_ID', 'msoa21nm']\n",
    "after = [col for col in cols if col not in before + insert]\n",
    "\n",
    "# Final column order\n",
    "merged_a11 = merged_a11[before + insert + after]\n",
    "\n",
    "# Export path\n",
    "a11_path = \"/Users/alexander/Documents/MSc Data Science/S2/Applying Data Science/dp/final_versions/updatedMSOA/gm_accomm2011.csv\"\n",
    "\n",
    "# Export\n",
    "merged_a11.to_csv(a11_path, index=False)\n",
    "\n",
    "print(f\"File exported to: {a11_path}\")\n"
   ]
  },
  {
   "cell_type": "code",
   "execution_count": 28,
   "id": "84fa1245-6dfc-47bd-819f-a3ef5c686803",
   "metadata": {},
   "outputs": [
    {
     "name": "stdout",
     "output_type": "stream",
     "text": [
      "File exported to: /Users/alexander/Documents/MSc Data Science/S2/Applying Data Science/dp/final_versions/updatedMSOA/gm_accomm2021.csv\n"
     ]
    }
   ],
   "source": [
    "# Merge msoa21 info into a21\n",
    "merged_a21 = a21.merge(\n",
    "    msoa21[['lsoa21cd', 'msoa21cd', 'msoa21nm']],\n",
    "    left_on='LSOA_ID',\n",
    "    right_on='lsoa21cd',\n",
    "    how='left'\n",
    ")\n",
    "\n",
    "# Rename MSOA columns\n",
    "merged_a21 = merged_a21.rename(columns={\n",
    "    'msoa21cd': 'MSOA_ID',\n",
    "    'msoa21nm': 'msoa21nm'\n",
    "})\n",
    "\n",
    "# Drop redundant column\n",
    "merged_a21 = merged_a21.drop(columns=['lsoa21cd'])\n",
    "\n",
    "# Reorder columns\n",
    "cols = merged_a21.columns.tolist()\n",
    "before = ['LSOA_ID', 'LSOA Name']\n",
    "insert = ['MSOA_ID', 'msoa21nm']\n",
    "after = [col for col in cols if col not in before + insert]\n",
    "\n",
    "# Final column order\n",
    "merged_a21 = merged_a21[before + insert + after]\n",
    "\n",
    "# Export path\n",
    "a21_path = \"/Users/alexander/Documents/MSc Data Science/S2/Applying Data Science/dp/final_versions/updatedMSOA/gm_accomm2021.csv\"\n",
    "\n",
    "# Export\n",
    "merged_a21.to_csv(a21_path, index=False)\n",
    "\n",
    "print(f\"File exported to: {a21_path}\")\n"
   ]
  },
  {
   "cell_type": "code",
   "execution_count": 31,
   "id": "79dc1f89-f150-47bb-bd43-2714a89addf5",
   "metadata": {},
   "outputs": [
    {
     "name": "stdout",
     "output_type": "stream",
     "text": [
      "File exported to: /Users/alexander/Documents/MSc Data Science/S2/Applying Data Science/dp/final_versions/updatedMSOA/hospitals_gm_2017.csv\n"
     ]
    }
   ],
   "source": [
    "# Merge msoa21 info into hops\n",
    "merged_hops = hops.merge(\n",
    "    msoa21[['lsoa21cd', 'msoa21cd', 'msoa21nm']],\n",
    "    left_on='LSOA_ID',\n",
    "    right_on='lsoa21cd',\n",
    "    how='left'\n",
    ")\n",
    "\n",
    "# Rename MSOA columns\n",
    "merged_hops = merged_hops.rename(columns={\n",
    "    'msoa21cd': 'MSOA_ID',\n",
    "    'msoa21nm': 'msoa21nm'\n",
    "})\n",
    "\n",
    "# Drop redundant column\n",
    "merged_hops = merged_hops.drop(columns=['lsoa21cd'])\n",
    "\n",
    "# Reorder columns\n",
    "cols = merged_hops.columns.tolist()\n",
    "before = ['LSOA_ID', 'lsoa21nm']\n",
    "insert = ['MSOA_ID', 'msoa21nm']\n",
    "after = [col for col in cols if col not in before + insert]\n",
    "\n",
    "# Final column order\n",
    "merged_hops = merged_hops[before + insert + after]\n",
    "\n",
    "# Export path\n",
    "hops_path = \"/Users/alexander/Documents/MSc Data Science/S2/Applying Data Science/dp/final_versions/updatedMSOA/hospitals_gm_2017.csv\"\n",
    "\n",
    "# Export\n",
    "merged_hops.to_csv(hops_path, index=False)\n",
    "\n",
    "print(f\"File exported to: {hops_path}\")\n"
   ]
  },
  {
   "cell_type": "code",
   "execution_count": 35,
   "id": "5198787c-92ee-47b9-818e-6bacb35ddb65",
   "metadata": {},
   "outputs": [
    {
     "name": "stdout",
     "output_type": "stream",
     "text": [
      "File exported to: /Users/alexander/Documents/MSc Data Science/S2/Applying Data Science/dp/final_versions/updatedMSOA/school_gm_2025.csv\n"
     ]
    }
   ],
   "source": [
    "# Merge msoa21 info into school\n",
    "merged_school = school.merge(\n",
    "    msoa21[['lsoa21cd', 'msoa21cd', 'msoa21nm']],\n",
    "    left_on='LSOA_ID',\n",
    "    right_on='lsoa21cd',\n",
    "    how='left'\n",
    ")\n",
    "\n",
    "# Rename MSOA columns\n",
    "merged_school = merged_school.rename(columns={\n",
    "    'msoa21cd': 'MSOA_ID',\n",
    "    'msoa21nm': 'msoa21nm'\n",
    "})\n",
    "\n",
    "# Drop redundant column\n",
    "merged_school = merged_school.drop(columns=['lsoa21cd'])\n",
    "\n",
    "# Reorder columns\n",
    "cols = merged_school.columns.tolist()\n",
    "before = ['LSOA_ID', 'lsoa21nm']\n",
    "insert = ['MSOA_ID', 'msoa21nm']\n",
    "after = [col for col in cols if col not in before + insert]\n",
    "\n",
    "# Final column order\n",
    "merged_school = merged_school[before + insert + after]\n",
    "\n",
    "# Export path\n",
    "school_path = \"/Users/alexander/Documents/MSc Data Science/S2/Applying Data Science/dp/final_versions/updatedMSOA/school_gm_2025.csv\"\n",
    "\n",
    "# Export\n",
    "merged_school.to_csv(school_path, index=False)\n",
    "\n",
    "print(f\"File exported to: {school_path}\")\n"
   ]
  },
  {
   "cell_type": "code",
   "execution_count": 37,
   "id": "3765afa4-ac98-4d3a-9059-8a0b633ff9c2",
   "metadata": {},
   "outputs": [],
   "source": [
    "ps = pd.read_csv(\"/Users/alexander/Documents/MSc Data Science/S2/Applying Data Science/dp/final_versions/ps_2024.csv\")"
   ]
  },
  {
   "cell_type": "code",
   "execution_count": 39,
   "id": "903ff2b4-5b72-4095-bfa7-a15e51d772a8",
   "metadata": {},
   "outputs": [
    {
     "name": "stdout",
     "output_type": "stream",
     "text": [
      "File exported to: /Users/alexander/Documents/MSc Data Science/S2/Applying Data Science/dp/final_versions/updatedMSOA/ps_2024.csv\n"
     ]
    }
   ],
   "source": [
    "# Merge msoa21 info into ps\n",
    "merged_ps = ps.merge(\n",
    "    msoa21[['lsoa21cd', 'msoa21cd', 'msoa21nm']],\n",
    "    left_on='LSOA_ID',\n",
    "    right_on='lsoa21cd',\n",
    "    how='left'\n",
    ")\n",
    "\n",
    "# Rename MSOA columns\n",
    "merged_ps = merged_ps.rename(columns={\n",
    "    'msoa21cd': 'MSOA_ID',\n",
    "    'msoa21nm': 'msoa21nm'\n",
    "})\n",
    "\n",
    "# Drop redundant column\n",
    "merged_ps = merged_ps.drop(columns=['lsoa21cd'])\n",
    "\n",
    "# Reorder columns\n",
    "cols = merged_ps.columns.tolist()\n",
    "before = ['LSOA_ID', 'lsoa21nm']\n",
    "insert = ['MSOA_ID', 'msoa21nm']\n",
    "after = [col for col in cols if col not in before + insert]\n",
    "\n",
    "# Final column order\n",
    "merged_ps = merged_ps[before + insert + after]\n",
    "\n",
    "# Export path\n",
    "ps_path = \"/Users/alexander/Documents/MSc Data Science/S2/Applying Data Science/dp/final_versions/updatedMSOA/ps_2024.csv\"\n",
    "\n",
    "# Export\n",
    "merged_ps.to_csv(ps_path, index=False)\n",
    "\n",
    "print(f\"File exported to: {ps_path}\")\n"
   ]
  }
 ],
 "metadata": {
  "kernelspec": {
   "display_name": "Python (myenv)",
   "language": "python",
   "name": "myenv"
  },
  "language_info": {
   "codemirror_mode": {
    "name": "ipython",
    "version": 3
   },
   "file_extension": ".py",
   "mimetype": "text/x-python",
   "name": "python",
   "nbconvert_exporter": "python",
   "pygments_lexer": "ipython3",
   "version": "3.13.0"
  }
 },
 "nbformat": 4,
 "nbformat_minor": 5
}
